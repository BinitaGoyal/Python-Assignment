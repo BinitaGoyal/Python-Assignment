{
 "cells": [
  {
   "cell_type": "code",
   "execution_count": 1,
   "metadata": {},
   "outputs": [
    {
     "name": "stdout",
     "output_type": "stream",
     "text": [
      "[55, 75, 88, 90]\n"
     ]
    }
   ],
   "source": [
    "# Task 1 : Question 1\n",
    "# Install Jupyter notebook and run the first program and share the screenshot of the output\n",
    "l = [1,55,75,12,2,5,6,88,90,2,3,5]\n",
    "m=[]\n",
    "for i in range(len(l)):\n",
    "    if l[i] > 20:\n",
    "        m.append(l[i])\n",
    "print(m)        "
   ]
  },
  {
   "cell_type": "code",
   "execution_count": 32,
   "metadata": {},
   "outputs": [
    {
     "name": "stdout",
     "output_type": "stream",
     "text": [
      "[2002, 2009, 2016, 2023, 2037, 2044, 2051, 2058, 2072, 2079, 2086, 2093, 2107, 2114, 2121, 2128, 2142, 2149, 2156, 2163, 2177, 2184, 2191, 2198, 2212, 2219, 2226, 2233, 2247, 2254, 2261, 2268, 2282, 2289, 2296, 2303, 2317, 2324, 2331, 2338, 2352, 2359, 2366, 2373, 2387, 2394, 2401, 2408, 2422, 2429, 2436, 2443, 2457, 2464, 2471, 2478, 2492, 2499, 2506, 2513, 2527, 2534, 2541, 2548, 2562, 2569, 2576, 2583, 2597, 2604, 2611, 2618, 2632, 2639, 2646, 2653, 2667, 2674, 2681, 2688, 2702, 2709, 2716, 2723, 2737, 2744, 2751, 2758, 2772, 2779, 2786, 2793, 2807, 2814, 2821, 2828, 2842, 2849, 2856, 2863, 2877, 2884, 2891, 2898, 2912, 2919, 2926, 2933, 2947, 2954, 2961, 2968, 2982, 2989, 2996, 3003, 3017, 3024, 3031, 3038, 3052, 3059, 3066, 3073, 3087, 3094, 3101, 3108, 3122, 3129, 3136, 3143, 3157, 3164, 3171, 3178, 3192, 3199]\n"
     ]
    }
   ],
   "source": [
    "# Task 1 : Question 2\n",
    "# Write a program which will find all such numbers which are divisible by 7 but are not a multiple of 5, between 2000 and 3200 (both included). \n",
    "# The numbers obtained should be printed in a comma-separated sequence on a single line.\n",
    "m=[]\n",
    "l = [7,14,5,6]\n",
    "for i in range(2000,3201):\n",
    "    if i%7 == 0:\n",
    "        if i%5 == 0:\n",
    "            continue\n",
    "        m.append(i)\n",
    "print(m)        "
   ]
  },
  {
   "cell_type": "code",
   "execution_count": 17,
   "metadata": {},
   "outputs": [
    {
     "name": "stdout",
     "output_type": "stream",
     "text": [
      "Enter first name: binita\n",
      "Enter last name: goyal\n",
      "atinib layog\n"
     ]
    }
   ],
   "source": [
    "# Task 1 : Question 3\n",
    "# Write a Python program to accept the user's first and last name and then getting them printed in the reverse order with a space between first name and last name.\n",
    "fname=input(\"Enter first name: \")\n",
    "lname=input(\"Enter last name: \")\n",
    "print(fname[::-1],lname[::-1])"
   ]
  },
  {
   "cell_type": "code",
   "execution_count": 31,
   "metadata": {},
   "outputs": [
    {
     "name": "stdout",
     "output_type": "stream",
     "text": [
      "904.3199999999999\n"
     ]
    }
   ],
   "source": [
    "# Task 1 : Question 4\n",
    "# Write a Python program to find the volume of a sphere with diameter 12 cm.\n",
    "# Formula : V = 4/3 * 3.14 * (r*r*r)\n",
    "d = 12\n",
    "l = 3\n",
    "i = p = 1\n",
    "while i<=l:\n",
    "    p = p * int(d/2)\n",
    "    i=i+1\n",
    "V = (4/3) * 3.14 * p    \n",
    "print(V)"
   ]
  },
  {
   "cell_type": "code",
   "execution_count": 47,
   "metadata": {},
   "outputs": [
    {
     "name": "stdout",
     "output_type": "stream",
     "text": [
      "insert sequence of comma separated numbers: 1,2,3,4,5,6,7\n",
      "[1, 2, 3, 4, 5, 6, 7]\n"
     ]
    }
   ],
   "source": [
    "# Task 2 : Question 1\n",
    "# Write a program which accepts a sequence of comma-separated numbers from console and generate a list.\n",
    "a = input(\"insert sequence of comma separated numbers: \")\n",
    "l= m = []\n",
    "l=a.split(sep=\",\")\n",
    "for i in range(len(l)):\n",
    "    m.append(int(l[i]))\n",
    "print(m)"
   ]
  },
  {
   "cell_type": "code",
   "execution_count": 77,
   "metadata": {},
   "outputs": [
    {
     "name": "stdout",
     "output_type": "stream",
     "text": [
      "*\n",
      "\n",
      "**\n",
      "\n",
      "***\n",
      "\n",
      "****\n",
      "\n",
      "*****\n",
      "\n",
      "****\n",
      "\n",
      "***\n",
      "\n",
      "**\n",
      "\n",
      "*\n",
      "\n"
     ]
    }
   ],
   "source": [
    "# Task 2 : Question 2\n",
    "#Create the below pattern using nested for loop in Python.\n",
    "#*\n",
    "#* *\n",
    "#* * *\n",
    "#* * * *\n",
    "#* * * * *\n",
    "#* * * *\n",
    "#* * *\n",
    "#* *\n",
    "#*\n",
    "d = 5\n",
    "i=1\n",
    "for i in range(0,d):\n",
    "    for j in range(0,i+1):\n",
    "        print(\"*\",end=\"\")\n",
    "    print(\"\\n\")\n",
    "for k in range(d-1,0,-1):\n",
    "    for l in range(0,k):\n",
    "        print(\"*\",end=\"\")\n",
    "    print(\"\\n\")"
   ]
  },
  {
   "cell_type": "code",
   "execution_count": 5,
   "metadata": {},
   "outputs": [
    {
     "name": "stdout",
     "output_type": "stream",
     "text": [
      "Enter a word:TodayChallenge\n",
      "Reversed string is : egnellahCyadoT\n"
     ]
    }
   ],
   "source": [
    "# Task 2 : Question 3\n",
    "# Write a Python program to reverse a word after accepting the input from the user.\n",
    "#Sample Output:\n",
    "#Input word: AcadGild\n",
    "#Output: dilGdacA\n",
    "s = input(\"Enter a word:\")\n",
    "rev = s[::-1]\n",
    "print(\"Reversed string is : \",end=\"\")\n",
    "print(rev)"
   ]
  },
  {
   "cell_type": "code",
   "execution_count": 10,
   "metadata": {},
   "outputs": [
    {
     "name": "stdout",
     "output_type": "stream",
     "text": [
      "WE, THE PEOPLE OF INDIA,\n",
      "\thaving solemnly resolved to constitute India into a SOVEREIGN, !\n",
      "\t\tSOCIALIST, SECULAR, DEMOCRATIC REPUBLIC\n",
      "\t\t and to secure to all its citizens\n"
     ]
    }
   ],
   "source": [
    "# Task 2 : Question 4\n",
    "#Write a Python Program to print the given string in the format specified in the sample output.\n",
    "#WE, THE PEOPLE OF INDIA, having solemnly resolved to constitute India into a SOVEREIGN, SOCIALIST, SECULAR, DEMOCRATIC REPUBLIC and to secure to all its citizens\n",
    "#Sample Output:\n",
    "#WE, THE PEOPLE OF INDIA,\n",
    "#      having solemnly resolved to constitute India into a SOVEREIGN, !\n",
    "#            SOCIALIST, SECULAR, DEMOCRATIC REPUBLIC\n",
    "#             and to secure to all its citizens\n",
    "print(\"WE, THE PEOPLE OF INDIA,\\n\\thaving solemnly resolved to constitute India into a SOVEREIGN, !\\n\\t\\tSOCIALIST, SECULAR, DEMOCRATIC REPUBLIC\\n\\t\\t and to secure to all its citizens\")"
   ]
  }
 ],
 "metadata": {
  "kernelspec": {
   "display_name": "Python 3",
   "language": "python",
   "name": "python3"
  },
  "language_info": {
   "codemirror_mode": {
    "name": "ipython",
    "version": 3
   },
   "file_extension": ".py",
   "mimetype": "text/x-python",
   "name": "python",
   "nbconvert_exporter": "python",
   "pygments_lexer": "ipython3",
   "version": "3.7.6"
  }
 },
 "nbformat": 4,
 "nbformat_minor": 4
}
